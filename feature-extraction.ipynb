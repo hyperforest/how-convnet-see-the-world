{
 "cells": [
  {
   "cell_type": "code",
   "execution_count": 1,
   "metadata": {},
   "outputs": [],
   "source": [
    "# cell 1\n",
    "import numpy as np\n",
    "import time\n",
    "\n",
    "%load_ext autoreload\n",
    "%autoreload 2"
   ]
  },
  {
   "cell_type": "code",
   "execution_count": 5,
   "metadata": {},
   "outputs": [],
   "source": [
    "# cell 2\n",
    "\n",
    "from tensorflow.keras.models import load_model"
   ]
  },
  {
   "cell_type": "code",
   "execution_count": 3,
   "metadata": {},
   "outputs": [],
   "source": [
    "'''\n",
    "[Note in Importing Module]\n",
    "\n",
    "You will probably get error of\n",
    "`tf.gradients is not supported when eager execution is enabled. Use tf.GradientTape instead.`\n",
    "To solve this error, do the following:\n",
    "\n",
    "0) Make sure you have already run all cell from cell 1 to cell 5 consecutively.\n",
    "   If you are getting error mentioned above, go to the next step\n",
    "   \n",
    "1) Uncomment the `disable_eager_execution()` command (line 14-15 in the module)\n",
    "2) Re-run this cell and cell 5. Make sure you get an error of\n",
    "   `The Session graph is empty.  Add operations to the graph before calling run().`,\n",
    "   then continue to the next step\n",
    "3) Set the `disable_eager_execution()` as comment again\n",
    "4) Re-run this cell and cell 4. If you get a warning of\n",
    "   `... If using Keras pass *_constraint arguments to layers.`,\n",
    "    you are doing it right. Now you can start experiment in cell 5.\n",
    "\n",
    "'''\n",
    "\n",
    "# cell 3\n",
    "from extractor import normalize, process_image, deprocess_image, visualize_layer"
   ]
  },
  {
   "cell_type": "code",
   "execution_count": 6,
   "metadata": {},
   "outputs": [
    {
     "name": "stdout",
     "output_type": "stream",
     "text": [
      "Model: \"fish_Y2\"\n",
      "_________________________________________________________________\n",
      "Layer (type)                 Output Shape              Param #   \n",
      "=================================================================\n",
      "input (InputLayer)           [(None, 96, 96, 3)]       0         \n",
      "_________________________________________________________________\n",
      "block1_conv (Conv2D)         (None, 90, 90, 8)         1184      \n",
      "_________________________________________________________________\n",
      "block1_bnorm (BatchNormaliza (None, 90, 90, 8)         32        \n",
      "_________________________________________________________________\n",
      "block1_relu (ReLU)           (None, 90, 90, 8)         0         \n",
      "_________________________________________________________________\n",
      "block1_pool (MaxPooling2D)   (None, 45, 45, 8)         0         \n",
      "_________________________________________________________________\n",
      "block2_conv (Conv2D)         (None, 41, 41, 16)        3216      \n",
      "_________________________________________________________________\n",
      "block2_bnorm (BatchNormaliza (None, 41, 41, 16)        64        \n",
      "_________________________________________________________________\n",
      "block2_relu (ReLU)           (None, 41, 41, 16)        0         \n",
      "_________________________________________________________________\n",
      "block2_pool (MaxPooling2D)   (None, 20, 20, 16)        0         \n",
      "_________________________________________________________________\n",
      "block3_conv (Conv2D)         (None, 16, 16, 16)        6416      \n",
      "_________________________________________________________________\n",
      "block3_bnorm (BatchNormaliza (None, 16, 16, 16)        64        \n",
      "_________________________________________________________________\n",
      "block3_relu (ReLU)           (None, 16, 16, 16)        0         \n",
      "_________________________________________________________________\n",
      "block3_pool (MaxPooling2D)   (None, 8, 8, 16)          0         \n",
      "_________________________________________________________________\n",
      "block4_conv (Conv2D)         (None, 6, 6, 32)          4640      \n",
      "_________________________________________________________________\n",
      "block4_bnorm (BatchNormaliza (None, 6, 6, 32)          128       \n",
      "_________________________________________________________________\n",
      "block4_relu (ReLU)           (None, 6, 6, 32)          0         \n",
      "_________________________________________________________________\n",
      "block4_pool (MaxPooling2D)   (None, 3, 3, 32)          0         \n",
      "_________________________________________________________________\n",
      "flatten (Flatten)            (None, 288)               0         \n",
      "_________________________________________________________________\n",
      "dense (Dense)                (None, 20)                5780      \n",
      "=================================================================\n",
      "Total params: 21,524\n",
      "Trainable params: 21,380\n",
      "Non-trainable params: 144\n",
      "_________________________________________________________________\n"
     ]
    }
   ],
   "source": [
    "# cell 4\n",
    "model = load_model('model.hdf5')\n",
    "model.summary()\n",
    "\n",
    "def visualize(layer_name):\n",
    "    visualize_layer(model, layer_name)"
   ]
  },
  {
   "cell_type": "code",
   "execution_count": 10,
   "metadata": {},
   "outputs": [
    {
     "name": "stdout",
     "output_type": "stream",
     "text": [
      "Compute filters 0 to 8\n",
      "Costs of filter   1:    23 ( 12.69s )\n",
      "Costs of filter   2:    16 ( 11.80s )\n",
      "Costs of filter   5:    45 ( 10.98s )\n",
      "3 filter processed.\n"
     ]
    }
   ],
   "source": [
    "# cell 5\n",
    "\n",
    "visualize('block1_conv')\n",
    "# visualize('block2_conv')\n",
    "# visualize('block4_conv')"
   ]
  }
 ],
 "metadata": {
  "kernelspec": {
   "display_name": "Python 3",
   "language": "python",
   "name": "python3"
  },
  "language_info": {
   "codemirror_mode": {
    "name": "ipython",
    "version": 3
   },
   "file_extension": ".py",
   "mimetype": "text/x-python",
   "name": "python",
   "nbconvert_exporter": "python",
   "pygments_lexer": "ipython3",
   "version": "3.6.5"
  }
 },
 "nbformat": 4,
 "nbformat_minor": 4
}
